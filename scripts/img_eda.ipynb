{
 "cells": [
  {
   "cell_type": "markdown",
   "id": "73e0827d-e834-4fd4-aa5e-2de1edd3db22",
   "metadata": {},
   "source": [
    "## Reading image data in Python: EDA (Exploratory Data Analysis)\n",
    "\n",
    "We take as example one image: it is the **RGB** `.png` thumbnail of the first plot, \n",
    "as created by `drone2report` `ROIs` task.\n",
    "\n",
    "We start by import libraries: we are using the `imageio` *Python* library for input/output of image data (tiff raster images in this illustration):"
   ]
  },
  {
   "cell_type": "code",
   "execution_count": null,
   "id": "0959b018-4a3d-4e94-8c27-8289f60028c8",
   "metadata": {},
   "outputs": [],
   "source": [
    "import numpy as np\n",
    "import numpy.ma as ma\n",
    "import imageio.v2 as imageio\n",
    "import matplotlib.pyplot as plt"
   ]
  },
  {
   "cell_type": "code",
   "execution_count": null,
   "id": "91decc77-ae85-4aa1-836b-f34a663f824f",
   "metadata": {},
   "outputs": [],
   "source": [
    "fname = '../../paper-drone2report/results/single_rgb_plot/ROI_id=2.png'\n",
    "pic = imageio.imread(fname)"
   ]
  },
  {
   "cell_type": "code",
   "execution_count": null,
   "id": "04a53192-e2d8-4a8c-83a5-1132fd389fd8",
   "metadata": {},
   "outputs": [],
   "source": [
    "plt.figure()\n",
    "plt.imshow(pic)"
   ]
  },
  {
   "cell_type": "markdown",
   "id": "cd1cb80e-933d-444b-84f3-5f6629ecf036",
   "metadata": {},
   "source": [
    "This is the image of a single plot from the orthomosaic: it's a thumbnail from `drone2report` `ROIs` task, and as such is more compressed and has gray pixels (`#636363`) in the empty corners (result of georeferencing and orientation of the image).\n",
    "\n",
    "This image is 707 x 612 pixles, and has three channels (RGB):"
   ]
  },
  {
   "cell_type": "code",
   "execution_count": null,
   "id": "ab6a4cf3-06de-401a-87e1-2fc820c054fb",
   "metadata": {},
   "outputs": [],
   "source": [
    "print('Type of the image : ' , type(pic))\n",
    "print()\n",
    "print('Shape of the image : {}'.format(pic.shape))\n",
    "print('Image Hight {}'.format(pic.shape[0]))\n",
    "print('Image Width {}'.format(pic.shape[1]))\n",
    "print('Dimension of Image {}'.format(pic.ndim))"
   ]
  },
  {
   "cell_type": "markdown",
   "id": "b928dd89-e8b6-4890-a024-bf8c0958f72c",
   "metadata": {},
   "source": [
    "The **total number of input pixels is 432,684**.\n",
    "\n",
    "Below we try to display the three channels separately: "
   ]
  },
  {
   "cell_type": "code",
   "execution_count": null,
   "id": "28a24205-2890-43ba-af8f-8bbd4bb3b58e",
   "metadata": {},
   "outputs": [],
   "source": [
    "plt.figure()\n",
    "plt.title('R channel 0')\n",
    "plt.ylabel('Height {}'.format(pic.shape[0]))\n",
    "plt.xlabel('Width {}'.format(pic.shape[1]))\n",
    "\n",
    "plt.imshow(pic[:,:,0], cmap='Reds')"
   ]
  },
  {
   "cell_type": "code",
   "execution_count": null,
   "id": "c44e0a0c-9431-4ab3-b79c-b92de91398fc",
   "metadata": {},
   "outputs": [],
   "source": [
    "plt.title('R channel 1')\n",
    "plt.ylabel('Height {}'.format(pic.shape[0]))\n",
    "plt.xlabel('Width {}'.format(pic.shape[1]))\n",
    "\n",
    "plt.imshow(pic[ : , : , 1], cmap='Greens')"
   ]
  },
  {
   "cell_type": "code",
   "execution_count": null,
   "id": "bb165ca7-72bd-4849-954c-0c914d351987",
   "metadata": {},
   "outputs": [],
   "source": [
    "plt.title('R channel 2')\n",
    "plt.ylabel('Height {}'.format(pic.shape[0]))\n",
    "plt.xlabel('Width {}'.format(pic.shape[1]))\n",
    "\n",
    "plt.imshow(pic[ : , : , 2], cmap='Blues')"
   ]
  },
  {
   "cell_type": "markdown",
   "id": "9e6ab80e-f44f-4ebc-8446-1170c3ca4f39",
   "metadata": {},
   "source": [
    "We here check the gray corners of the image (absence of crop plot): "
   ]
  },
  {
   "cell_type": "code",
   "execution_count": null,
   "id": "e4101fca-0051-4818-ad52-a04893d4e481",
   "metadata": {},
   "outputs": [],
   "source": [
    "pic[ : , : , 2]"
   ]
  },
  {
   "cell_type": "markdown",
   "id": "a1c9247c-fbb6-4163-afc0-e4f24d91c96a",
   "metadata": {},
   "source": [
    "We can mess with the pixel intensity and change as we wish: e.g., below we boost the intensity of the red channel"
   ]
  },
  {
   "cell_type": "code",
   "execution_count": null,
   "id": "4060f4e8-9d7c-4e0a-aa40-3e9dd0014246",
   "metadata": {},
   "outputs": [],
   "source": [
    "pic[0:720 , : , 0] = 255 # full intensity to those pixel's R channel\n",
    "pic[:, 210:220, 0]"
   ]
  },
  {
   "cell_type": "code",
   "execution_count": null,
   "id": "a59904f7-2711-47f0-a23e-d5df694925fc",
   "metadata": {},
   "outputs": [],
   "source": [
    "plt.figure()\n",
    "plt.imshow(pic[:,:,:])"
   ]
  },
  {
   "cell_type": "markdown",
   "id": "043e0537-5fa7-4432-ac90-1c5eb88838fd",
   "metadata": {},
   "source": [
    "If we exaggerate and boost the intensity of all channels, we get a white image (max intensity):"
   ]
  },
  {
   "cell_type": "code",
   "execution_count": null,
   "id": "4e107b11-4275-4870-ad68-b2ed17527f68",
   "metadata": {},
   "outputs": [],
   "source": [
    "pic[0:720 , : , 1] = 255 # full intensity to those pixel's R channel\n",
    "pic[0:720 , : , 2] = 255"
   ]
  },
  {
   "cell_type": "code",
   "execution_count": null,
   "id": "f018e28a-de3a-4c29-a137-11418d9b3846",
   "metadata": {},
   "outputs": [],
   "source": [
    "plt.figure()\n",
    "plt.imshow(pic[:,:,:])"
   ]
  },
  {
   "cell_type": "markdown",
   "id": "31e37073-dd4e-48be-b3a3-ed0601471218",
   "metadata": {},
   "source": [
    "A different way to split an RGB image in the three component channels:"
   ]
  },
  {
   "cell_type": "code",
   "execution_count": null,
   "id": "6dccef8e-56cd-41d5-a5bf-7fd56613fb29",
   "metadata": {},
   "outputs": [],
   "source": [
    "pic = imageio.imread(fname)\n",
    "\n",
    "## return the overall figure and the specified subplots\n",
    "fig, ax = plt.subplots(nrows = 1, ncols=3, figsize=(15,5))\n",
    "\n",
    "for c, ax in zip(range(3), ax):\n",
    "    \n",
    "    # create zero matrix\n",
    "    split_img = np.zeros(pic.shape, dtype=\"uint8\") # 'dtype' by default: 'numpy.float64'\n",
    "    \n",
    "    # assing each channel \n",
    "    split_img[ :, :, c] = pic[ :, :, c]\n",
    "    \n",
    "    # display each channel\n",
    "    ax.imshow(split_img)"
   ]
  },
  {
   "cell_type": "markdown",
   "id": "0cfeebae-1bd0-41db-9280-246d0a5f1cdf",
   "metadata": {},
   "source": [
    "## Tiff image files\n",
    "\n",
    "Instead of reading the `.png` thumbnail, we can read directly the `.tiff` image file of one single plot from the orthomosaic: "
   ]
  },
  {
   "cell_type": "code",
   "execution_count": null,
   "id": "52fa845b-cc37-4b9b-894e-6bc9e176b598",
   "metadata": {},
   "outputs": [],
   "source": [
    "fname = '../../paper-drone2report/data/single_rgb_plot/single_rgb_plot.tif'\n",
    "pic = imageio.imread(fname)"
   ]
  },
  {
   "cell_type": "code",
   "execution_count": null,
   "id": "3b00fca1-4b8c-411a-9e95-e5159df4c16a",
   "metadata": {},
   "outputs": [],
   "source": [
    "plt.figure()\n",
    "plt.imshow(pic)"
   ]
  },
  {
   "cell_type": "markdown",
   "id": "9f96ff9c-476f-42ab-af9d-4cd97691eefb",
   "metadata": {},
   "source": [
    "The `.tiff` image has black corners (not gray), but has basically the same dimension in terms of pixels (left aside the different compression)."
   ]
  },
  {
   "cell_type": "code",
   "execution_count": null,
   "id": "91338969-47d5-44f0-bc02-427696efec2c",
   "metadata": {},
   "outputs": [],
   "source": [
    "print('Type of the image : ' , type(pic))\n",
    "print()\n",
    "print('Shape of the image : {}'.format(pic.shape))\n",
    "print('Image Hight {}'.format(pic.shape[0]))\n",
    "print('Image Width {}'.format(pic.shape[1]))\n",
    "print('Dimension of Image {}'.format(pic.ndim))"
   ]
  },
  {
   "cell_type": "code",
   "execution_count": null,
   "id": "8f1db12b-b1d0-4c25-b15a-ec8f456b936d",
   "metadata": {},
   "outputs": [],
   "source": [
    "## calculate the n. of pixels (one channel)\n",
    "707*611"
   ]
  },
  {
   "cell_type": "markdown",
   "id": "b1d8f206-cf4a-4a39-aa9c-25ec94a79719",
   "metadata": {},
   "source": [
    "Now we see another way to read image data in **Python**: no longer the `imageio` library, but the `PIL` module from `Image`:"
   ]
  },
  {
   "cell_type": "code",
   "execution_count": null,
   "id": "b04d212c-d224-456b-bf12-a715a095e119",
   "metadata": {},
   "outputs": [],
   "source": [
    "from PIL import Image\n",
    "im = Image.open(fname)\n",
    "im.show()"
   ]
  },
  {
   "cell_type": "code",
   "execution_count": null,
   "id": "c8d1c5dc-8c26-439b-a23f-b60c9012950c",
   "metadata": {},
   "outputs": [],
   "source": [
    "imarray = np.array(im)\n",
    "imarray.shape"
   ]
  }
 ],
 "metadata": {
  "kernelspec": {
   "display_name": "Python 3 (ipykernel)",
   "language": "python",
   "name": "python3"
  },
  "language_info": {
   "codemirror_mode": {
    "name": "ipython",
    "version": 3
   },
   "file_extension": ".py",
   "mimetype": "text/x-python",
   "name": "python",
   "nbconvert_exporter": "python",
   "pygments_lexer": "ipython3",
   "version": "3.12.4"
  }
 },
 "nbformat": 4,
 "nbformat_minor": 5
}
